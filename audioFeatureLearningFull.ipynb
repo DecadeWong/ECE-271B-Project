{
 "cells": [
  {
   "cell_type": "markdown",
   "metadata": {},
   "source": [
    "# Imports"
   ]
  },
  {
   "cell_type": "code",
   "execution_count": 28,
   "metadata": {},
   "outputs": [],
   "source": [
    "from functions import getClasses\n",
    "from functions import createFolder\n",
    "import csv\n",
    "import os\n",
    "import glob\n",
    "import matplotlib.pyplot as plt\n",
    "import sys\n",
    "import numpy as np\n",
    "\n",
    "#Comment out if not generating feature folders\n",
    "sys.path.append('/home/arclab/Documents/FlorianHwk/ECE271B/pyAudioAnalysis/')\n",
    "from pyAudioAnalysis import audioFeatureExtraction as aT\n",
    "import audioBasicIO\n",
    "\n",
    "from sklearn.discriminant_analysis import LinearDiscriminantAnalysis as LDA\n",
    "from sklearn.neural_network import MLPClassifier\n",
    "from sklearn.ensemble import AdaBoostClassifier\n",
    "from sklearn import svm\n",
    "\n",
    "ourClasses, _, _, _ = getClasses('classes.csv', \"data/ontology.json\", 'data/class_labels_indices.csv')"
   ]
  },
  {
   "cell_type": "markdown",
   "metadata": {},
   "source": [
    "# Get all mt features given a file input"
   ]
  },
  {
   "cell_type": "code",
   "execution_count": 52,
   "metadata": {},
   "outputs": [],
   "source": [
    "def getMidtermFeatures(filepath):\n",
    "    mtWin  = 1\n",
    "    mtStep = 1\n",
    "    stWin  = 0.05\n",
    "    stStep = 0.05\n",
    "\n",
    "    #This assumes that there is no overlap between mt features and no overlap between st features.\n",
    "    #So window size = step size, and whole number of st features per mt feature\n",
    "    #Also assumes the length of the recording is 10 seconds\n",
    "\n",
    "    [Fs, x] = audioBasicIO.readAudioFile(filepath)\n",
    "    if not type(x) is np.ndarray:\n",
    "        return -1;\n",
    "    \n",
    "    if isinstance(x, int):\n",
    "            return -1       \n",
    "    \n",
    "    x = audioBasicIO.stereo2mono(x)\n",
    "    if x.shape[0]<float(Fs)/10:\n",
    "            print \"  (AUDIO FILE TOO SMALL - SKIPPING)\"\n",
    "            return -1\n",
    "    \n",
    "    \n",
    "    stFeatures = aT.stFeatureExtraction(x, Fs, round(stWin * Fs), round(stStep * Fs))\n",
    "\n",
    "    mtFeaturesMean = [];\n",
    "    mtFeaturesVar  = [];\n",
    "    numStPerMt = int(mtWin/stStep)\n",
    "\n",
    "\n",
    "    for i in range(0, 10/mtWin):\n",
    "        curStFeatures = stFeatures[:,i*numStPerMt:(i+1)*numStPerMt]\n",
    "\n",
    "        mtFeaturesMean.append(np.mean(curStFeatures,1))\n",
    "        mtFeaturesVar.append(np.std(curStFeatures, 1))\n",
    "\n",
    "    mtFeaturesMean = np.array(mtFeaturesMean)\n",
    "    mtFeaturesVar = np.array(mtFeaturesVar)\n",
    "\n",
    "    features = np.hstack((mtFeaturesMean.flatten(), mtFeaturesVar.flatten()))\n",
    "    \n",
    "    return features\n"
   ]
  },
  {
   "cell_type": "markdown",
   "metadata": {},
   "source": [
    "# Generate folders of all features!!"
   ]
  },
  {
   "cell_type": "code",
   "execution_count": 53,
   "metadata": {},
   "outputs": [],
   "source": [
    "#No need to run if you have the train_audioFeaturesFull and train_audioFeaturesFull Folders. Put them inside the /data/folder\n",
    "createFolder(\"data/train_audioFeaturesFull\")\n",
    "for c in ourClasses:\n",
    "    directory = \"data/train_rawAudio/\" + c + \"/\"\n",
    "    \n",
    "    types = ('*.wav', '*.aif',  '*.aiff', '*.mp3','*.au')\n",
    "    wavFilesList = []\n",
    "    for files in types:\n",
    "        wavFilesList.extend(glob.glob(os.path.join(directory, files)))\n",
    "    \n",
    "    with open('data/train_audioFeaturesFull/' + c + '.csv', 'wb') as csvfile:\n",
    "        csvWriter = csv.writer(csvfile, delimiter=',',quotechar='|', quoting=csv.QUOTE_MINIMAL)\n",
    "        \n",
    "        for i in range(0, len(wavFilesList)):   \n",
    "            \n",
    "            print(\"Extracting features from {}\".format(wavFilesList[i]))\n",
    "            features = getMidtermFeatures(wavFilesList[i])\n",
    "            if not type(features) is np.ndarray:\n",
    "                continue\n",
    "                \n",
    "            row = [\"%.10f\" % feat for feat in features]\n",
    "            curName = wavFilesList[i]\n",
    "            e = curName.rfind(\".\");\n",
    "            b = curName.rfind(\"/\");\n",
    "            \n",
    "            row.insert(0,curName[b+1:e])\n",
    "            csvWriter.writerow(row)\n",
    "            \n",
    "createFolder(\"data/test_audioFeaturesFull\")\n",
    "for c in ourClasses:\n",
    "    directory = \"data/test_rawAudio/\" + c + \"/\"\n",
    "    \n",
    "    types = ('*.wav', '*.aif',  '*.aiff', '*.mp3','*.au')\n",
    "    wavFilesList = []\n",
    "    for files in types:\n",
    "        wavFilesList.extend(glob.glob(os.path.join(directory, files)))\n",
    "    \n",
    "    with open('data/test_audioFeaturesFull/' + c + '.csv', 'wb') as csvfile:\n",
    "        csvWriter = csv.writer(csvfile, delimiter=',',quotechar='|', quoting=csv.QUOTE_MINIMAL)\n",
    "        \n",
    "        for i in range(0, len(wavFilesList)):   \n",
    "            \n",
    "            print(\"Extracting features from {}\".format(wavFilesList[i]))\n",
    "            features = getMidtermFeatures(wavFilesList[i])\n",
    "            \n",
    "            if not type(features) is np.ndarray:\n",
    "                continue\n",
    "                \n",
    "            row = [\"%.10f\" % feat for feat in features]\n",
    "            curName = wavFilesList[i]\n",
    "            e = curName.rfind(\".\");\n",
    "            b = curName.rfind(\"/\");\n",
    "            \n",
    "            row.insert(0,curName[b+1:e])\n",
    "            csvWriter.writerow(row)\n",
    "            \n"
   ]
  },
  {
   "cell_type": "markdown",
   "metadata": {},
   "source": [
    "# Get Generated Features"
   ]
  },
  {
   "cell_type": "code",
   "execution_count": 70,
   "metadata": {},
   "outputs": [],
   "source": [
    "#Assumes featureFolder is generated. Look at generateFeatures.ipynb\n",
    "def getFeatureMatrices(pathToFeatureCSV):\n",
    "    data = [];\n",
    "    names = [];\n",
    "    #numComma = pathToFeatureCSV.count(',')\n",
    "    with open(pathToFeatureCSV, 'r') as f:\n",
    "        csvReader = csv.reader(f, delimiter=',')\n",
    "        rowCount = 0\n",
    "        for row in csvReader:\n",
    "            rowCount = rowCount + 1\n",
    "            \n",
    "            names.append(row[0])\n",
    "            x = np.array(row[1:]).astype(np.float)\n",
    "            x = np.nan_to_num(x)\n",
    "            \n",
    "            \n",
    "            data.append(x)\n",
    "                            \n",
    "    return np.array(data), names"
   ]
  },
  {
   "cell_type": "markdown",
   "metadata": {},
   "source": [
    "# Get an equal positive set and negative set for a class"
   ]
  },
  {
   "cell_type": "code",
   "execution_count": 71,
   "metadata": {},
   "outputs": [],
   "source": [
    "def getFeatureSetPosNeg(pathToDirWithCSV, cName, ourClasses):\n",
    "    data_pos, names = getFeatureMatrices(pathToDirWithCSV + cName + \".csv\")\n",
    "    amountOfNegData = data_pos.shape[0]\n",
    "    \n",
    "    data_neg = [];\n",
    "    \n",
    "    for c in ourClasses:\n",
    "        if c == cName:\n",
    "            continue\n",
    "        data_new, names_new = getFeatureMatrices(pathToDirWithCSV + c + \".csv\")\n",
    "        negDataCounter = 0\n",
    "        for i in range(0, len(names_new)):\n",
    "            \n",
    "            if names_new[i] in names:\n",
    "                continue\n",
    "                \n",
    "            negDataCounter = negDataCounter + 1\n",
    "            data_neg.append(data_new[i,:])\n",
    "            \n",
    "            if negDataCounter >= amountOfNegData/6:\n",
    "                break\n",
    "\n",
    "    return data_pos, np.array(data_neg)"
   ]
  },
  {
   "cell_type": "markdown",
   "metadata": {},
   "source": [
    "# Calculates test error given a list of classifiers"
   ]
  },
  {
   "cell_type": "code",
   "execution_count": 72,
   "metadata": {},
   "outputs": [],
   "source": [
    "def getTestErrorValue(clf_list, ourClasses, pathToDirWithTestCSV):\n",
    "    numCorrect_test  = 0\n",
    "    num_test  = 0\n",
    "    \n",
    "    dataSets = [];\n",
    "    nameSets = [];\n",
    "    for c in ourClasses:\n",
    "        data, names = getFeatureMatrices(pathToDirWithTestCSV + c + \".csv\")\n",
    "        dataSets.append(data)\n",
    "        nameSets.append(names)\n",
    "    \n",
    "    for k in range(0, len(ourClasses)):\n",
    "        data = dataSets[k]\n",
    "        names = nameSets[k]\n",
    "        \n",
    "        for i in range(0, len(clf_list)):\n",
    "            clf = clf_list[i]\n",
    "            result = clf.predict(data)\n",
    "            \n",
    "            for j in range(0, len(names)):\n",
    "                num_test = num_test + 1\n",
    "                if result[j]  and names[j] in nameSets[i]:\n",
    "                    numCorrect_test = numCorrect_test + 1\n",
    "                    \n",
    "                if not(result[j]) and not(names[j] in nameSets[i]):\n",
    "                    numCorrect_test = numCorrect_test + 1\n",
    "\n",
    "    return 1 - float(numCorrect_test)/float(num_test)"
   ]
  },
  {
   "cell_type": "markdown",
   "metadata": {},
   "source": [
    "# Performing LDA"
   ]
  },
  {
   "cell_type": "code",
   "execution_count": 73,
   "metadata": {},
   "outputs": [],
   "source": [
    "print(\"Using LDA\")\n",
    "\n",
    "clf_list = []\n",
    "\n",
    "for c in ourClasses:\n",
    "    data_pos, data_neg = getFeatureSetPosNeg(\"data/train_audioFeaturesFull/\", c, ourClasses)\n",
    "\n",
    "    \n",
    "    dataset = np.vstack([data_pos, data_neg])\n",
    "    labels  = np.ravel(np.vstack([np.ones([data_pos.shape[0],1]), np.zeros([data_neg.shape[0],1])]))\n",
    "    \n",
    "    clf = LDA()\n",
    "    clf.fit(dataset, labels)\n",
    "    LDA(n_components=None, priors=None, shrinkage=None, solver='svd',store_covariance=False, tol=0.1)\n",
    "    print(\"Training classifier \" + c + \" training error: {}\".format(1 - clf.score(dataset,labels)))\n",
    "    clf_list.append(clf)\n",
    "\n",
    "testE = getTestErrorValue(clf_list, ourClasses, \"data/test_audioFeaturesFull//\")\n",
    "print(\"Test Error  : {}\".format(testE))\n"
   ]
  },
  {
   "cell_type": "markdown",
   "metadata": {},
   "source": [
    "#  Performing Neural Network"
   ]
  },
  {
   "cell_type": "code",
   "execution_count": 74,
   "metadata": {},
   "outputs": [],
   "source": [
    "#l1,l2 values taken from last one:\n",
    "\n",
    "\n",
    "clf_list = []\n",
    "\n",
    "for i in range(0,len(ourClasses)):\n",
    "    c = ourClasses[i]\n",
    "    #l1 = l1_list[i]\n",
    "    #l2 = l2_list[i]\n",
    "    l1 = 200\n",
    "    l2 = 50\n",
    "    \n",
    "    data_pos, data_neg = getFeatureSetPosNeg(\"data/train_audioFeaturesMean/\", c, ourClasses)\n",
    "    dataset = np.vstack([data_pos, data_neg])\n",
    "    labels  = np.ravel(np.vstack([np.ones([data_pos.shape[0],1]), np.zeros([data_neg.shape[0],1])]))\n",
    "    \n",
    "    clf = MLPClassifier(solver='lbfgs', alpha=1e-5, hidden_layer_sizes=(l1, l2), random_state=1)\n",
    "    clf.fit(dataset, labels);\n",
    "    print(\"Training classifier \" + c + \" training error: {}\".format(1 - clf.score(dataset,labels)))\n",
    "    \n",
    "    clf_list.append(clf)\n",
    "    \n",
    "testE = getTestErrorValue(clf_list, ourClasses, \"data/test_audioFeaturesMean//\")\n",
    "print(\"Test Error  : {}\".format(testE))"
   ]
  },
  {
   "cell_type": "markdown",
   "metadata": {},
   "source": [
    "# Performing Boosting"
   ]
  },
  {
   "cell_type": "code",
   "execution_count": 75,
   "metadata": {},
   "outputs": [],
   "source": [
    "print(\"Using Adaboost\")\n",
    "\n",
    "clf_list = []\n",
    "\n",
    "for c in ourClasses:\n",
    "    data_pos, data_neg = getFeatureSetPosNeg(\"data/train_audioFeaturesMean/\", c, ourClasses)\n",
    "    dataset = np.vstack([data_pos, data_neg])\n",
    "    labels  = np.ravel(np.vstack([np.ones([data_pos.shape[0],1]), np.zeros([data_neg.shape[0],1])]))\n",
    "    \n",
    "    clf = AdaBoostClassifier(n_estimators = 75)\n",
    "    \n",
    "    clf.fit(dataset, labels);\n",
    "    print(\"Training classifier \" + c + \" training error: {}\".format(1 - clf.score(dataset,labels)))\n",
    "    \n",
    "    clf_list.append(clf)\n",
    "    \n",
    "testE = getTestErrorValue(clf_list, ourClasses, \"data/test_audioFeaturesMean/\")\n",
    "print(\"Test Error  : {}\".format(testE))"
   ]
  },
  {
   "cell_type": "markdown",
   "metadata": {},
   "source": [
    "# Performing SVM"
   ]
  },
  {
   "cell_type": "code",
   "execution_count": 76,
   "metadata": {},
   "outputs": [],
   "source": [
    "print(\"Using SVM\")\n",
    "\n",
    "clf_list = []\n",
    "\n",
    "for c in ourClasses:\n",
    "    data_pos, data_neg = getFeatureSetPosNeg(\"data/train_audioFeaturesMean/\", c, ourClasses)\n",
    "    dataset = np.vstack([data_pos, data_neg])\n",
    "    labels  = np.ravel(np.vstack([np.ones([data_pos.shape[0],1]), np.zeros([data_neg.shape[0],1])]))\n",
    "    \n",
    "    clf = svm.SVC(kernel='linear')\n",
    "    clf.fit(dataset, labels)\n",
    "    print(\"Training classifier \" + c + \" training error: {}\".format(1 - clf.score(dataset,labels)))\n",
    "    \n",
    "    clf_list.append(clf)\n",
    "    \n",
    "testE = getTestErrorValue(clf_list, ourClasses, \"data/test_audioFeaturesMean/\")\n",
    "print(\"Test Error  : {}\".format(testE))"
   ]
  },
  {
   "cell_type": "code",
   "execution_count": null,
   "metadata": {},
   "outputs": [],
   "source": []
  }
 ],
 "metadata": {
  "kernelspec": {
   "display_name": "Python 2",
   "language": "python",
   "name": "python2"
  },
  "language_info": {
   "codemirror_mode": {
    "name": "ipython",
    "version": 2
   },
   "file_extension": ".py",
   "mimetype": "text/x-python",
   "name": "python",
   "nbconvert_exporter": "python",
   "pygments_lexer": "ipython2",
   "version": "2.7.12"
  }
 },
 "nbformat": 4,
 "nbformat_minor": 2
}
