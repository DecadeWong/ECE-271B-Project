{
 "cells": [
  {
   "cell_type": "markdown",
   "metadata": {},
   "source": [
    "# Imports"
   ]
  },
  {
   "cell_type": "code",
   "execution_count": 1,
   "metadata": {},
   "outputs": [],
   "source": [
    "from functions import getClasses\n",
    "from functions import createFolder\n",
    "import csv\n",
    "import os\n",
    "import matplotlib.pyplot as plt\n",
    "import sys\n",
    "import numpy as np\n",
    "\n",
    "#Comment out if not generating features\n",
    "sys.path.append('/home/arclab/Documents/FlorianHwk/ECE271B/')\n",
    "from pyAudioAnalysis import audioFeatureExtraction as aT\n",
    "\n",
    "from sklearn.discriminant_analysis import LinearDiscriminantAnalysis as LDA\n",
    "from sklearn.neural_network import MLPClassifier\n",
    "from sklearn.ensemble import AdaBoostClassifier\n",
    "from sklearn import svm\n",
    "\n",
    "ourClasses, _, _, _ = getClasses('classes.csv', \"data/ontology.json\", 'data/class_labels_indices.csv')"
   ]
  },
  {
   "cell_type": "markdown",
   "metadata": {},
   "source": [
    "# Generate folders of mean features!!"
   ]
  },
  {
   "cell_type": "code",
   "execution_count": 4,
   "metadata": {},
   "outputs": [],
   "source": [
    "#No need to run if you have the train_audioFeaturesMean and test_audioFeaturesMean Folders. \n",
    "#Put them inside the /data/folder\n",
    "createFolder(\"data/train_audioFeaturesMean\")\n",
    "    \n",
    "for c in ourClasses:\n",
    "    directory = \"data/train_rawAudio/\" + c + \"/\"\n",
    "    features, names = aT.dirWavFeatureExtraction(directory, 1.0, 1.0, 0.05, 0.05)\n",
    "    with open('data/train_audioFeaturesMean/' + c + '.csv', 'wb') as csvfile:\n",
    "        csvWriter = csv.writer(csvfile, delimiter=',',quotechar='|', quoting=csv.QUOTE_MINIMAL)\n",
    "        for i in range(0, min(len(names),len(features))):            \n",
    "            row = [\"%.10f\" % feat for feat in features[i]]\n",
    "            curName = names[i]\n",
    "            e = curName.rfind(\".\");\n",
    "            b = curName.rfind(\"/\");\n",
    "            \n",
    "            row.insert(0,curName[b+1:e])\n",
    "            csvWriter.writerow(row)\n",
    "            \n",
    "createFolder(\"data/test_audioFeaturesMean\")\n",
    "    \n",
    "for c in ourClasses:\n",
    "    directory = \"data/test_rawAudio/\" + c + \"/\"\n",
    "    features, names = aT.dirWavFeatureExtraction(directory, 1.0, 1.0, 0.05, 0.05)\n",
    "    with open('data/test_audioFeaturesMean/' + c + '.csv', 'wb') as csvfile:\n",
    "        csvWriter = csv.writer(csvfile, delimiter=',',quotechar='|', quoting=csv.QUOTE_MINIMAL)\n",
    "        for i in range(0, len(names)):            \n",
    "            row = [\"%.20f\" % feat for feat in features[i]]\n",
    "            curName = names[i]\n",
    "            e = curName.rfind(\".\");\n",
    "            b = curName.rfind(\"/\");\n",
    "            \n",
    "            row.insert(0,curName[b+1:e])\n",
    "            csvWriter.writerow(row)"
   ]
  },
  {
   "cell_type": "markdown",
   "metadata": {},
   "source": [
    "# Get Generated Features"
   ]
  },
  {
   "cell_type": "code",
   "execution_count": 5,
   "metadata": {},
   "outputs": [],
   "source": [
    "#Assumes featureFolder is generated. Look at generateFeatures.ipynb\n",
    "def getFeatureMatrices(pathToFeatureCSV):\n",
    "    data = [];\n",
    "    names = [];\n",
    "    #numComma = pathToFeatureCSV.count(',')\n",
    "    with open(pathToFeatureCSV, 'r') as f:\n",
    "        csvReader = csv.reader(f, delimiter=',')\n",
    "        rowCount = 0\n",
    "        for row in csvReader:\n",
    "            rowCount = rowCount + 1\n",
    "            \n",
    "            names.append(row[0])\n",
    "            data.append(np.array(row[1:]).astype(np.float))\n",
    "                            \n",
    "    return np.array(data), names"
   ]
  },
  {
   "cell_type": "markdown",
   "metadata": {},
   "source": [
    "# Get an equal positive set and negative set for a class"
   ]
  },
  {
   "cell_type": "code",
   "execution_count": 13,
   "metadata": {},
   "outputs": [],
   "source": [
    "def getFeatureSetPosNeg(pathToDirWithCSV, cName, ourClasses):\n",
    "    data_pos, names = getFeatureMatrices(pathToDirWithCSV + cName + \".csv\")\n",
    "    amountOfNegData = data_pos.shape[0]\n",
    "    \n",
    "    data_neg = [];\n",
    "    \n",
    "    for c in ourClasses:\n",
    "        if c == cName:\n",
    "            continue\n",
    "        data_new, names_new = getFeatureMatrices(pathToDirWithCSV + c + \".csv\")\n",
    "        negDataCounter = 0\n",
    "        for i in range(0, len(names_new)):\n",
    "            \n",
    "            if names_new[i] in names:\n",
    "                continue\n",
    "                \n",
    "            negDataCounter = negDataCounter + 1\n",
    "            data_neg.append(data_new[i,:])\n",
    "            \n",
    "            if negDataCounter >= amountOfNegData/6:\n",
    "                break\n",
    "\n",
    "    return data_pos, np.array(data_neg)"
   ]
  },
  {
   "cell_type": "markdown",
   "metadata": {},
   "source": [
    "# Calculates test error given a list of classifiers"
   ]
  },
  {
   "cell_type": "code",
   "execution_count": 7,
   "metadata": {},
   "outputs": [],
   "source": [
    "def getTestErrorValue(clf_list, ourClasses, pathToDirWithTestCSV):\n",
    "    numCorrect_test  = 0\n",
    "    num_test  = 0\n",
    "    \n",
    "    dataSets = [];\n",
    "    nameSets = [];\n",
    "    for c in ourClasses:\n",
    "        data, names = getFeatureMatrices(pathToDirWithTestCSV + c + \".csv\")\n",
    "        dataSets.append(data)\n",
    "        nameSets.append(names)\n",
    "    \n",
    "    for k in range(0, len(ourClasses)):\n",
    "        data = dataSets[k]\n",
    "        names = nameSets[k]\n",
    "        \n",
    "        for i in range(0, len(clf_list)):\n",
    "            clf = clf_list[i]\n",
    "            result = clf.predict(data)\n",
    "            \n",
    "            for j in range(0, len(names)):\n",
    "                num_test = num_test + 1\n",
    "                if result[j]  and names[j] in nameSets[i]:\n",
    "                    numCorrect_test = numCorrect_test + 1\n",
    "                    \n",
    "                if not(result[j]) and not(names[j] in nameSets[i]):\n",
    "                    numCorrect_test = numCorrect_test + 1\n",
    "\n",
    "    return 1 - float(numCorrect_test)/float(num_test)"
   ]
  },
  {
   "cell_type": "markdown",
   "metadata": {},
   "source": [
    "# Performing LDA"
   ]
  },
  {
   "cell_type": "code",
   "execution_count": 14,
   "metadata": {},
   "outputs": [],
   "source": [
    "print(\"Using LDA\")\n",
    "\n",
    "clf_list = []\n",
    "\n",
    "for c in ourClasses:\n",
    "    data_pos, data_neg = getFeatureSetPosNeg(\"data/train_audioFeaturesMean/\", c, ourClasses)\n",
    "    dataset = np.vstack([data_pos, data_neg])\n",
    "    labels  = np.ravel(np.vstack([np.ones([data_pos.shape[0],1]), np.zeros([data_neg.shape[0],1])]))\n",
    "\n",
    "    clf = LDA()\n",
    "    clf.fit(dataset, labels);\n",
    "    LDA(n_components=None, priors=None, shrinkage=None, solver='svd',store_covariance=False, tol=0.1)\n",
    "    print(\"Training classifier \" + c + \" training error: {}\".format(1 - clf.score(dataset,labels)))\n",
    "    clf_list.append(clf)\n",
    "\n",
    "testE = getTestErrorValue(clf_list, ourClasses, \"data/test_audioFeaturesMean/\")\n",
    "print(\"Test Error  : {}\".format(testE))\n"
   ]
  },
  {
   "cell_type": "markdown",
   "metadata": {},
   "source": [
    "#   Performing Neural Network"
   ]
  },
  {
   "cell_type": "code",
   "execution_count": 17,
   "metadata": {},
   "outputs": [],
   "source": [
    "print(\"Using Neural Network\")\n",
    "\n",
    "print(\"Looking for best 2 layer network\")\n",
    "\n",
    "l1_list = [];\n",
    "l2_list = [];\n",
    "\n",
    "for c in ourClasses:\n",
    "    data_pos, data_neg = getFeatureSetPosNeg(\"data/train_Features/\", c, ourClasses)\n",
    "    dataset = np.vstack([data_pos, data_neg])\n",
    "    labels  = np.ravel(np.vstack([np.ones([data_pos.shape[0],1]), np.zeros([data_neg.shape[0],1])]))\n",
    "    \n",
    "    minTrainE = 1\n",
    "    bestl1 = 0\n",
    "    bestl2 = 0\n",
    "    \n",
    "    for l1 in range(10, 51,5):\n",
    "        for l2 in range(5,l1,5):\n",
    "            clf = MLPClassifier(solver='lbfgs', alpha=1e-5, hidden_layer_sizes=(l1, l2), random_state=1)\n",
    "            clf.fit(dataset, labels);\n",
    "            trainE = 1 - clf.score(dataset,labels);\n",
    "            \n",
    "            if minTrainE > trainE:\n",
    "                minTrainE = trainE\n",
    "                bestl1 = l1\n",
    "                bestl2 = l2\n",
    "                \n",
    "    print(\"For class \" + c + \"Best pair is {}.{}\".format(bestl1, bestl2))\n",
    "    l1_list.append(bestl1)\n",
    "    l2_list.append(bestl2)\n",
    "    print(\"Train Error : {}\".format(minTrainE))\n",
    "    \n",
    "        "
   ]
  },
  {
   "cell_type": "code",
   "execution_count": 10,
   "metadata": {},
   "outputs": [],
   "source": [
    "#l1,l2 values taken from last one:\n",
    "\n",
    "\n",
    "clf_list = []\n",
    "\n",
    "for i in range(0,len(ourClasses)):\n",
    "    c = ourClasses[i]\n",
    "    #l1 = l1_list[i]\n",
    "    #l2 = l2_list[i]\n",
    "    l1 = 40\n",
    "    l2 = 10\n",
    "    \n",
    "    data_pos, data_neg = getFeatureSetPosNeg(\"data/train_audioFeaturesMean/\", c, ourClasses)\n",
    "    dataset = np.vstack([data_pos, data_neg])\n",
    "    labels  = np.ravel(np.vstack([np.ones([data_pos.shape[0],1]), np.zeros([data_neg.shape[0],1])]))\n",
    "    \n",
    "    clf = MLPClassifier(solver='lbfgs', alpha=1e-5, hidden_layer_sizes=(l1, l2), random_state=1)\n",
    "    clf.fit(dataset, labels);\n",
    "    print(\"Training classifier \" + c + \" training error: {}\".format(1 - clf.score(dataset,labels)))\n",
    "    \n",
    "    clf_list.append(clf)\n",
    "    \n",
    "testE = getTestErrorValue(clf_list, ourClasses, \"data/test_audioFeaturesMean//\")\n",
    "print(\"Test Error  : {}\".format(testE))"
   ]
  },
  {
   "cell_type": "markdown",
   "metadata": {},
   "source": [
    "# Performing Boosting"
   ]
  },
  {
   "cell_type": "code",
   "execution_count": 11,
   "metadata": {},
   "outputs": [],
   "source": [
    "print(\"Using Adaboost\")\n",
    "\n",
    "clf_list = []\n",
    "\n",
    "for c in ourClasses:\n",
    "    data_pos, data_neg = getFeatureSetPosNeg(\"data/train_audioFeaturesMean/\", c, ourClasses)\n",
    "    dataset = np.vstack([data_pos, data_neg])\n",
    "    labels  = np.ravel(np.vstack([np.ones([data_pos.shape[0],1]), np.zeros([data_neg.shape[0],1])]))\n",
    "    \n",
    "    clf = AdaBoostClassifier(n_estimators = 75)\n",
    "    \n",
    "    clf.fit(dataset, labels);\n",
    "    print(\"Training classifier \" + c + \" training error: {}\".format(1 - clf.score(dataset,labels)))\n",
    "    \n",
    "    clf_list.append(clf)\n",
    "    \n",
    "testE = getTestErrorValue(clf_list, ourClasses, \"data/test_audioFeaturesMean/\")\n",
    "print(\"Test Error  : {}\".format(testE))"
   ]
  },
  {
   "cell_type": "markdown",
   "metadata": {},
   "source": [
    "# Performing SVM"
   ]
  },
  {
   "cell_type": "code",
   "execution_count": 12,
   "metadata": {},
   "outputs": [],
   "source": [
    "print(\"Using SVM\")\n",
    "\n",
    "clf_list = []\n",
    "\n",
    "for c in ourClasses:\n",
    "    data_pos, data_neg = getFeatureSetPosNeg(\"data/train_audioFeaturesMean/\", c, ourClasses)\n",
    "    dataset = np.vstack([data_pos, data_neg])\n",
    "    labels  = np.ravel(np.vstack([np.ones([data_pos.shape[0],1]), np.zeros([data_neg.shape[0],1])]))\n",
    "    \n",
    "    clf = svm.SVC(kernel='linear')\n",
    "    clf.fit(dataset, labels)\n",
    "    print(\"Training classifier \" + c + \" training error: {}\".format(1 - clf.score(dataset,labels)))\n",
    "    \n",
    "    clf_list.append(clf)\n",
    "    \n",
    "testE = getTestErrorValue(clf_list, ourClasses, \"data/test_audioFeaturesMean/\")\n",
    "print(\"Test Error  : {}\".format(testE))"
   ]
  },
  {
   "cell_type": "code",
   "execution_count": null,
   "metadata": {},
   "outputs": [],
   "source": []
  }
 ],
 "metadata": {
  "kernelspec": {
   "display_name": "Python 2",
   "language": "python",
   "name": "python2"
  },
  "language_info": {
   "codemirror_mode": {
    "name": "ipython",
    "version": 2
   },
   "file_extension": ".py",
   "mimetype": "text/x-python",
   "name": "python",
   "nbconvert_exporter": "python",
   "pygments_lexer": "ipython2",
   "version": "2.7.12"
  }
 },
 "nbformat": 4,
 "nbformat_minor": 2
}
