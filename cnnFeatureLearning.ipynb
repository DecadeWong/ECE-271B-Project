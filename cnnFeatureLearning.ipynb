{
 "cells": [
  {
   "cell_type": "markdown",
   "metadata": {},
   "source": [
    "# Get Imports"
   ]
  },
  {
   "cell_type": "code",
   "execution_count": 2,
   "metadata": {},
   "outputs": [],
   "source": [
    "from functions import getClasses\n",
    "from functions import createFolder\n",
    "import csv\n",
    "import os\n",
    "import matplotlib.pyplot as plt\n",
    "import sys\n",
    "import numpy as np\n",
    "from sklearn.discriminant_analysis import LinearDiscriminantAnalysis as LDA\n",
    "from sklearn.neural_network import MLPClassifier\n",
    "from sklearn.ensemble import AdaBoostClassifier\n",
    "from sklearn import svm\n",
    "\n",
    "ourClasses, _, _, _ = getClasses('classes.csv', \"data/ontology.json\", 'data/class_labels_indices.csv')"
   ]
  },
  {
   "cell_type": "markdown",
   "metadata": {},
   "source": [
    "# Get Generated Features"
   ]
  },
  {
   "cell_type": "code",
   "execution_count": 7,
   "metadata": {},
   "outputs": [],
   "source": [
    "#Assumes featureFolder is generated in CSV\n",
    "def getFeatureMatrices(pathToFeatureCSV):\n",
    "    data = [];\n",
    "    names = [];\n",
    "    numComma = pathToFeatureCSV.count(',')\n",
    "    with open(pathToFeatureCSV, 'r') as f:\n",
    "        csvReader = csv.reader(f, delimiter=',')\n",
    "        rowCount = 0\n",
    "        for row in csvReader:\n",
    "            rowCount = rowCount + 1\n",
    "            \n",
    "            names.append(row[0][row[0].rfind(\"/\")+1:])\n",
    "            data.append(np.array(row[1+numComma:]).astype(np.float))\n",
    "                            \n",
    "    return np.array(data), names"
   ]
  },
  {
   "cell_type": "markdown",
   "metadata": {},
   "source": [
    "# Get an equal positive set and negative set for a class"
   ]
  },
  {
   "cell_type": "code",
   "execution_count": 4,
   "metadata": {},
   "outputs": [],
   "source": [
    "def getFeatureSetPosNeg(pathToDirWithCSV, cName, ourClasses):\n",
    "    data_pos, names = getFeatureMatrices(pathToDirWithCSV + cName + \".csv\")\n",
    "    amountOfNegData = data_pos.shape[0]\n",
    "    \n",
    "    data_neg = [];\n",
    "    \n",
    "    for c in ourClasses:\n",
    "        if c == cName:\n",
    "            continue\n",
    "        data_new, names_new = getFeatureMatrices(pathToDirWithCSV + c + \".csv\")\n",
    "        negDataCounter = 0\n",
    "        for i in range(0, len(names_new)):\n",
    "            \n",
    "            if names_new[i] in names:\n",
    "                continue\n",
    "                \n",
    "            negDataCounter = negDataCounter + 1\n",
    "            data_neg.append(data_new[i,:])\n",
    "            \n",
    "            if negDataCounter >= amountOfNegData/6:\n",
    "                break\n",
    "\n",
    "    return data_pos, np.array(data_neg)"
   ]
  },
  {
   "cell_type": "markdown",
   "metadata": {},
   "source": [
    "# Calculates test error given a list of classifiers"
   ]
  },
  {
   "cell_type": "code",
   "execution_count": 5,
   "metadata": {},
   "outputs": [],
   "source": [
    "def getTestErrorValue(clf_list, ourClasses, pathToDirWithTestCSV):\n",
    "    numCorrect_test  = 0\n",
    "    num_test  = 0\n",
    "    \n",
    "    dataSets = [];\n",
    "    nameSets = [];\n",
    "    for c in ourClasses:\n",
    "        data, names = getFeatureMatrices(pathToDirWithTestCSV + c + \".csv\")\n",
    "        dataSets.append(data)\n",
    "        nameSets.append(names)\n",
    "    \n",
    "    for k in range(0, len(ourClasses)):\n",
    "        data = dataSets[k]\n",
    "        names = nameSets[k]\n",
    "        \n",
    "        for i in range(0, len(clf_list)):\n",
    "            clf = clf_list[i]\n",
    "            result = clf.predict(data)\n",
    "            \n",
    "            for j in range(0, len(names)):\n",
    "                num_test = num_test + 1\n",
    "                if result[j]  and names[j] in nameSets[i]:\n",
    "                    numCorrect_test = numCorrect_test + 1\n",
    "                    \n",
    "                if not(result[j]) and not(names[j] in nameSets[i]):\n",
    "                    numCorrect_test = numCorrect_test + 1\n",
    "\n",
    "    return 1 - float(numCorrect_test)/float(num_test)"
   ]
  },
  {
   "cell_type": "markdown",
   "metadata": {},
   "source": [
    "# Performing LDA"
   ]
  },
  {
   "cell_type": "code",
   "execution_count": 6,
   "metadata": {},
   "outputs": [
    {
     "name": "stdout",
     "output_type": "stream",
     "text": [
      "Using LDA\n"
     ]
    },
    {
     "ename": "ValueError",
     "evalue": "all the input array dimensions except for the concatenation axis must match exactly",
     "output_type": "error",
     "traceback": [
      "\u001b[0;31m---------------------------------------------------------------------------\u001b[0m",
      "\u001b[0;31mValueError\u001b[0m                                Traceback (most recent call last)",
      "\u001b[0;32m<ipython-input-6-ca144d43e737>\u001b[0m in \u001b[0;36m<module>\u001b[0;34m()\u001b[0m\n\u001b[1;32m      5\u001b[0m \u001b[0;32mfor\u001b[0m \u001b[0mc\u001b[0m \u001b[0;32min\u001b[0m \u001b[0mourClasses\u001b[0m\u001b[0;34m:\u001b[0m\u001b[0;34m\u001b[0m\u001b[0m\n\u001b[1;32m      6\u001b[0m     \u001b[0mdata_pos\u001b[0m\u001b[0;34m,\u001b[0m \u001b[0mdata_neg\u001b[0m \u001b[0;34m=\u001b[0m \u001b[0mgetFeatureSetPosNeg\u001b[0m\u001b[0;34m(\u001b[0m\u001b[0;34m\"data/CNN features/unbal_tr_feat/\"\u001b[0m\u001b[0;34m,\u001b[0m \u001b[0mc\u001b[0m\u001b[0;34m,\u001b[0m \u001b[0mourClasses\u001b[0m\u001b[0;34m)\u001b[0m\u001b[0;34m\u001b[0m\u001b[0m\n\u001b[0;32m----> 7\u001b[0;31m     \u001b[0mdataset\u001b[0m \u001b[0;34m=\u001b[0m \u001b[0mnp\u001b[0m\u001b[0;34m.\u001b[0m\u001b[0mvstack\u001b[0m\u001b[0;34m(\u001b[0m\u001b[0;34m[\u001b[0m\u001b[0mdata_pos\u001b[0m\u001b[0;34m,\u001b[0m \u001b[0mdata_neg\u001b[0m\u001b[0;34m]\u001b[0m\u001b[0;34m)\u001b[0m\u001b[0;34m\u001b[0m\u001b[0m\n\u001b[0m\u001b[1;32m      8\u001b[0m     \u001b[0mlabels\u001b[0m  \u001b[0;34m=\u001b[0m \u001b[0mnp\u001b[0m\u001b[0;34m.\u001b[0m\u001b[0mravel\u001b[0m\u001b[0;34m(\u001b[0m\u001b[0mnp\u001b[0m\u001b[0;34m.\u001b[0m\u001b[0mvstack\u001b[0m\u001b[0;34m(\u001b[0m\u001b[0;34m[\u001b[0m\u001b[0mnp\u001b[0m\u001b[0;34m.\u001b[0m\u001b[0mones\u001b[0m\u001b[0;34m(\u001b[0m\u001b[0;34m[\u001b[0m\u001b[0mdata_pos\u001b[0m\u001b[0;34m.\u001b[0m\u001b[0mshape\u001b[0m\u001b[0;34m[\u001b[0m\u001b[0;36m0\u001b[0m\u001b[0;34m]\u001b[0m\u001b[0;34m,\u001b[0m\u001b[0;36m1\u001b[0m\u001b[0;34m]\u001b[0m\u001b[0;34m)\u001b[0m\u001b[0;34m,\u001b[0m \u001b[0mnp\u001b[0m\u001b[0;34m.\u001b[0m\u001b[0mzeros\u001b[0m\u001b[0;34m(\u001b[0m\u001b[0;34m[\u001b[0m\u001b[0mdata_neg\u001b[0m\u001b[0;34m.\u001b[0m\u001b[0mshape\u001b[0m\u001b[0;34m[\u001b[0m\u001b[0;36m0\u001b[0m\u001b[0;34m]\u001b[0m\u001b[0;34m,\u001b[0m\u001b[0;36m1\u001b[0m\u001b[0;34m]\u001b[0m\u001b[0;34m)\u001b[0m\u001b[0;34m]\u001b[0m\u001b[0;34m)\u001b[0m\u001b[0;34m)\u001b[0m\u001b[0;34m\u001b[0m\u001b[0m\n\u001b[1;32m      9\u001b[0m \u001b[0;34m\u001b[0m\u001b[0m\n",
      "\u001b[0;32m/usr/local/lib/python2.7/site-packages/numpy/core/shape_base.pyc\u001b[0m in \u001b[0;36mvstack\u001b[0;34m(tup)\u001b[0m\n\u001b[1;32m    235\u001b[0m \u001b[0;34m\u001b[0m\u001b[0m\n\u001b[1;32m    236\u001b[0m     \"\"\"\n\u001b[0;32m--> 237\u001b[0;31m     \u001b[0;32mreturn\u001b[0m \u001b[0m_nx\u001b[0m\u001b[0;34m.\u001b[0m\u001b[0mconcatenate\u001b[0m\u001b[0;34m(\u001b[0m\u001b[0;34m[\u001b[0m\u001b[0matleast_2d\u001b[0m\u001b[0;34m(\u001b[0m\u001b[0m_m\u001b[0m\u001b[0;34m)\u001b[0m \u001b[0;32mfor\u001b[0m \u001b[0m_m\u001b[0m \u001b[0;32min\u001b[0m \u001b[0mtup\u001b[0m\u001b[0;34m]\u001b[0m\u001b[0;34m,\u001b[0m \u001b[0;36m0\u001b[0m\u001b[0;34m)\u001b[0m\u001b[0;34m\u001b[0m\u001b[0m\n\u001b[0m\u001b[1;32m    238\u001b[0m \u001b[0;34m\u001b[0m\u001b[0m\n\u001b[1;32m    239\u001b[0m \u001b[0;32mdef\u001b[0m \u001b[0mhstack\u001b[0m\u001b[0;34m(\u001b[0m\u001b[0mtup\u001b[0m\u001b[0;34m)\u001b[0m\u001b[0;34m:\u001b[0m\u001b[0;34m\u001b[0m\u001b[0m\n",
      "\u001b[0;31mValueError\u001b[0m: all the input array dimensions except for the concatenation axis must match exactly"
     ]
    }
   ],
   "source": [
    "print(\"Using LDA\")\n",
    "\n",
    "clf_list = []\n",
    "\n",
    "for c in ourClasses:\n",
    "    data_pos, data_neg = getFeatureSetPosNeg(\"data/CNN features/unbal_tr_feat/\", c, ourClasses)\n",
    "    dataset = np.vstack([data_pos, data_neg])\n",
    "    labels  = np.ravel(np.vstack([np.ones([data_pos.shape[0],1]), np.zeros([data_neg.shape[0],1])]))\n",
    "\n",
    "    clf = LDA()\n",
    "    clf.fit(dataset, labels);\n",
    "    LDA(n_components=None, priors=None, shrinkage=None, solver='svd',store_covariance=False, tol=0.1)\n",
    "    print(\"Training classifier \" + c + \" training error: {}\".format(1 - clf.score(dataset,labels)))\n",
    "    clf_list.append(clf)\n",
    "\n",
    "testE = getTestErrorValue(clf_list, ourClasses, \"data/CNN features/eval_feat/\")\n",
    "print(\"Test Error  : {}\".format(testE))"
   ]
  },
  {
   "cell_type": "code",
   "execution_count": 10,
   "metadata": {},
   "outputs": [
    {
     "name": "stdout",
     "output_type": "stream",
     "text": [
      "(35042, 1280)\n",
      "(35040,)\n"
     ]
    }
   ],
   "source": [
    "print(data_pos.shape)\n",
    "print(data_neg.shape)"
   ]
  },
  {
   "cell_type": "code",
   "execution_count": null,
   "metadata": {},
   "outputs": [],
   "source": []
  }
 ],
 "metadata": {
  "kernelspec": {
   "display_name": "Python 2",
   "language": "python",
   "name": "python2"
  },
  "language_info": {
   "codemirror_mode": {
    "name": "ipython",
    "version": 2
   },
   "file_extension": ".py",
   "mimetype": "text/x-python",
   "name": "python",
   "nbconvert_exporter": "python",
   "pygments_lexer": "ipython2",
   "version": "2.7.10"
  }
 },
 "nbformat": 4,
 "nbformat_minor": 2
}
